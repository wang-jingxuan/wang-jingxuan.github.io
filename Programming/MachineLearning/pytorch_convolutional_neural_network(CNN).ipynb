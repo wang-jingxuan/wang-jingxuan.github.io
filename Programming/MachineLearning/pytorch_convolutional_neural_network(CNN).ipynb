{
 "cells": [
  {
   "cell_type": "markdown",
   "id": "07834db3",
   "metadata": {},
   "source": [
    "# Mist Image Classification by CNN"
   ]
  },
  {
   "cell_type": "markdown",
   "id": "0b4c5252",
   "metadata": {},
   "source": [
    "## 1. Fire Up"
   ]
  },
  {
   "cell_type": "code",
   "execution_count": null,
   "id": "5630bd8d",
   "metadata": {},
   "outputs": [],
   "source": [
    "import torch\n",
    "from torch.autograd import Variable\n",
    "import torch.nn as nn\n",
    "import torch.nn.functional as F\n",
    "import numpy as np\n",
    "import pandas as pd\n",
    "import matplotlib.pyplot as plt\n",
    "from sklearn.metrics import accuracy_score\n",
    "from torchvision import datasets\n",
    "from torchvision import transforms\n",
    "import tensorflow as tf\n",
    "from tensorflow import keras\n",
    "import sympy\n",
    "from sympy import Matrix"
   ]
  },
  {
   "cell_type": "markdown",
   "id": "622a6363",
   "metadata": {},
   "source": [
    "## 2. Data Generating"
   ]
  },
  {
   "cell_type": "code",
   "execution_count": null,
   "id": "265c479c",
   "metadata": {},
   "outputs": [],
   "source": [
    "mist dataset = keras.datasets.mnist\n",
    "(data_train, label_train), (data_test, label_test) = mnist_dataset.load_data ()"
   ]
  }
 ],
 "metadata": {
  "kernelspec": {
   "display_name": "Python 3 (ipykernel)",
   "language": "python",
   "name": "python3"
  },
  "language_info": {
   "codemirror_mode": {
    "name": "ipython",
    "version": 3
   },
   "file_extension": ".py",
   "mimetype": "text/x-python",
   "name": "python",
   "nbconvert_exporter": "python",
   "pygments_lexer": "ipython3",
   "version": "3.9.16"
  }
 },
 "nbformat": 4,
 "nbformat_minor": 5
}

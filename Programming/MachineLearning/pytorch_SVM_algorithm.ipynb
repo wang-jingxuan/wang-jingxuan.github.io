{
 "cells": [
  {
   "cell_type": "markdown",
   "id": "9017b8cf",
   "metadata": {},
   "source": [
    "# Support Vector Machine(SVM) Algorithm"
   ]
  },
  {
   "cell_type": "markdown",
   "id": "52b72cf4",
   "metadata": {},
   "source": [
    "## 1. Fire up"
   ]
  },
  {
   "cell_type": "code",
   "execution_count": null,
   "id": "cde0b579",
   "metadata": {},
   "outputs": [],
   "source": [
    "# import sklearn SVC\n",
    "\n",
    "import torch\n",
    "from torch.autograd import Variable \n",
    "import torch.nn as nn \n",
    "import torch.nn.functional as F \n",
    "import numpy as np \n",
    "import pandas as pd \n",
    "import matplotlib.pyplot as plt \n",
    "from sklearn.metrics import accuracy_score \n",
    "from torchvision import datasets \n",
    "from torchvision import transforms \n",
    "import tensorflow as tf \n",
    "from tensorflow import keras \n",
    "import sympy\n",
    "from sympy import Matrix\n",
    "from numpy import sin, cos, pi, tanh, exp"
   ]
  },
  {
   "cell_type": "markdown",
   "id": "603463fc",
   "metadata": {},
   "source": [
    "## 2. Training data generation\n",
    "\n",
    "Why 2-dim data? For support vector visualization"
   ]
  },
  {
   "cell_type": "code",
   "execution_count": null,
   "id": "78455813",
   "metadata": {},
   "outputs": [],
   "source": [
    "max r = 0.45\n",
    "x1 = []\n",
    "x2 = []\n",
    "y = []\n",
    "for i in range(20):\n",
    "    r = max_r * np.random.rand()\n",
    "    rand_num = np.random.rand ()\n",
    "    x1.append(0.5 + r * cos(2 * pi * rand_num))\n",
    "    x2.append(0.5 + r * sin(2 * pi * rand_num))\n",
    "    y.append(1)\n",
    "\n",
    "for i in range(20):\n",
    "    r = max_r * np.random.rand()\n",
    "    rand_num = np.random.rand()\n",
    "    x1.append(-0.5 + r * cos(2 * pi * rand_num))\n",
    "    x2.append(-0.5 + r * sin(2 * pi * rand_num))\n",
    "    y.append (-1)\n",
    "\n",
    "dict1 = {\"xl\": x1, \"x2\": x2}\n",
    "training_X = pd.DataFrame(dict1)\n",
    "dict2 = {\"y\": y}\n",
    "training_y = pd.DataFrame(dict2)\n",
    "training_X.head(5)"
   ]
  },
  {
   "cell_type": "code",
   "execution_count": null,
   "id": "e8ff97cc",
   "metadata": {},
   "outputs": [],
   "source": [
    "training_y.tail(5)"
   ]
  },
  {
   "cell_type": "code",
   "execution_count": null,
   "id": "18210c27",
   "metadata": {},
   "outputs": [],
   "source": [
    "plt. figure(figsize = (10, 5))\n",
    "\n",
    "plt. scatter(x1[0 : 20], x2[0 : 20], color = \"black\", label = \"Class 1\")\n",
    "#plt.scatter(x1[5], x2[5], color = \"blue\", label = \"Class 1 S V 1\")\n",
    "#plt.scatter(x1[10], x2[10], cotor =“btuel', label = \"Class 1 S V 2\")\n",
    "\n",
    "plt.scatter(x1[20: 40], x2[20 : 40], color = \"red\", label = \"Class -1\")\n",
    "#plt.scatter(x1[39], x2[39], color = \"pink\", label = \"Class -1 S V 1\")\n",
    "\n",
    "plt.xlabel(\"$x_1$\")\n",
    "plt.ylabel(\"$x_2$\")\n",
    "plt.legend()\n",
    "plt.show()"
   ]
  },
  {
   "cell_type": "markdown",
   "id": "b7136787",
   "metadata": {},
   "source": [
    "## 3. Kernel fuction design"
   ]
  },
  {
   "cell_type": "code",
   "execution_count": null,
   "id": "c27a8a72",
   "metadata": {},
   "outputs": [],
   "source": [
    "def K(vecl, vecz, kernel_function = \"rbf\"， Gamma = 0.2, r = 0.2):#vecl and vec 2 are transformed into row vect\n",
    "    vec1 = np.array(vec1).reshape(1,-1)\n",
    "    vec2 = np.array(vec2).reshape(1,-1)\n",
    "    \n",
    "    if kernel_function == \"rbf\":\n",
    "        return torch.FloatTensor([np.exp(- Gamma * np.linalg.norm(vec1 - vec2, ord = 2) ** 2)])\n",
    "    \n",
    "    elif kernel_fuction == \"sigmoid\":\n",
    "        return torch.FloatTensor([tanh(Gamma * np.matmul(vec1, vec2.T) = r)[0][0]])"
   ]
  },
  {
   "cell_type": "markdown",
   "id": "8280a7a9",
   "metadata": {},
   "source": [
    "## 4. Training the SVM model by gradient descent method\n",
    "\n",
    "(with the help of the Automatic Differentiation function in Pytorch)\n",
    "\n",
    "(Including how to solve the trouble of gradient disruption in Pytorch)"
   ]
  },
  {
   "cell_type": "code",
   "execution_count": null,
   "id": "5788db7d",
   "metadata": {},
   "outputs": [],
   "source": [
    "C = 10.0 # penalty factor\n",
    "M = training_X.__len__()\n",
    "alpha_lack = Variable(torch.FloatTensor(n.zeros((1, M - 1))), requires_grad = True) # alpha_new\n",
    "y = torch.FloatTensor(training_y.iloc[:, 0]).reshape(-1, 1)"
   ]
  },
  {
   "cell_type": "code",
   "execution_count": null,
   "id": "2201b365",
   "metadata": {},
   "outputs": [],
   "source": [
    "print(alpha_lack.shape)\n",
    "alpha_lack"
   ]
  },
  {
   "cell_type": "code",
   "execution_count": null,
   "id": "f8df096c",
   "metadata": {},
   "outputs": [],
   "source": [
    "print(y.shape)\n",
    "y.T"
   ]
  },
  {
   "cell_type": "code",
   "execution_count": null,
   "id": "a308b1a8",
   "metadata": {},
   "outputs": [],
   "source": [
    "Iter times = 10000000\n",
    "lr = 0.22 # learning rate\n",
    "Obj_List = []\n",
    "\n",
    "for it in range(Iter times):\n",
    "    \n",
    "    alpha_last = - torch.mm(alpha_lack, y[0 : M - 1, 0].reshape(-1, 1)) / y[M - 1]\n",
    "    \n",
    "    sum_ = 0.0\n",
    "    \n",
    "    for i in range(M):\n",
    "        for j in range (M):\n",
    "            \n",
    "            if i != M - 1 and j != M - 1:\n",
    "                sum_ = sum_ + 0.5 * alpha_lack[0, i] * alpha_lack[0, j] * y[i, 0] * y[j, 0] * K(training_X.iloc[i, :], training_X.iloc[j, :])\n",
    "            \n",
    "            elif i == M - 1 and j !=M - 1:\n",
    "                sum_ = sum_ + 0.5 * alpha_last * alpha_lack[0, j] * y[i, 0] * y[j, 0] * K(training_X.iloc[i, :],training_X.iloc[j, :])\n",
    "            \n",
    "            elif i != M - 1 and j == M - 1:\n",
    "                sum_ = sum_ + 0.5 * alpha_last * alpha_lack[0, i] * y[i, 0] * y[j, 0] * K(training_X.iloc[i, :],training_X.iloc[j, :])\n",
    "\n",
    "            else:\n",
    "                sum_ = sum_ + 0.5 * alpha_last * alpha_last * y[i, 0] * y[j, 0] * K(training_X.iloc[i, :], training_X.iloc[j, :])\n",
    "\n",
    "    Obj = sum_ - (torch.sum(alpha_lack) + alpha_last)\n",
    "    \n",
    "    Obj.backward()\n",
    "    \n",
    "    grad = alpha_lack.grad.data\n",
    "    \n",
    "    lr_temp = lr / (1 + it * 0.0008)\n",
    "    \n",
    "    alpha_lack.data = alpha_lack.data - lr_temp * grad\n",
    "    \n",
    "    alpha_lack.grad.data.zero_()\n",
    "    \n",
    "    for col in range(alpha_lack.shape[1]):  # clipping\n",
    "        \n",
    "        if alpha_lack[0, col] > C:\n",
    "            alpha_lack[0, col] = C\n",
    "        \n",
    "        elif alpha_lack[0, col] < 0.0:\n",
    "            alpha_lack[0, col] = 0.0\n",
    "    \n",
    "    alpha_lack = Variable(torch.FloatTensor(alpha_lack), requires_grad = True)\n",
    "    \n",
    "    Obj_List.append(Obj)\n",
    "    \n",
    "    print(\"-----------------------------------------------------------------------\")\n",
    "    print(it + 1, \"iterations has been completed!\")\n",
    "    print(\"    -> Current Obj = \", Obj)\n",
    "    print(\"    -> Current alpha_lack = \", alpha_lack)\n",
    "    print(\"-----------------------------------------------------------------------\")"
   ]
  },
  {
   "cell_type": "code",
   "execution_count": null,
   "id": "091e7698",
   "metadata": {},
   "outputs": [],
   "source": [
    "alpha_lack"
   ]
  },
  {
   "cell_type": "code",
   "execution_count": null,
   "id": "a54b8958",
   "metadata": {},
   "outputs": [],
   "source": [
    "alpha_last = - torch.mm(alpha_lack, y[0 : M - 1, 0].reshape(-1, 1)) / y [M - 1]\n",
    "alpha_last"
   ]
  },
  {
   "cell_type": "markdown",
   "id": "9888d3ba",
   "metadata": {},
   "source": [
    "## 5. Support vectors visualization"
   ]
  },
  {
   "cell_type": "code",
   "execution_count": null,
   "id": "e01c8bb1",
   "metadata": {},
   "outputs": [],
   "source": []
  },
  {
   "cell_type": "markdown",
   "id": "22dce201",
   "metadata": {},
   "source": [
    "## 6. Computing the solutions of the original problem: W & b"
   ]
  },
  {
   "cell_type": "code",
   "execution_count": null,
   "id": "0af4f32c",
   "metadata": {},
   "outputs": [],
   "source": [
    "s = 5\n",
    "ys = y[s, 0]\n",
    "sum_record = 0.0\n",
    "\n",
    "for i in range(M - 1):\n",
    "    sum_record = sum_record + alpha_lack[0, i] * y[i, 0] * K(training_X.iloc[i, :], training_X.iloc[s, :1])\n",
    "\n",
    "sum_record = sum_record + alpha_last * y [M - 1, 0] * K(training_X.iloc[M - 1, :], training_X.iloc[s, :])\n",
    "\n",
    "b = (1 / ys) - sum_record\n",
    "b"
   ]
  },
  {
   "cell_type": "code",
   "execution_count": null,
   "id": "0221fa7d",
   "metadata": {},
   "outputs": [],
   "source": [
    "W = torch.FloatTensor(np.zeros ((2, 1)))\n",
    "W"
   ]
  },
  {
   "cell_type": "code",
   "execution_count": null,
   "id": "e3f90de0",
   "metadata": {},
   "outputs": [],
   "source": [
    "for i in range(M - 1):\n",
    "    W = W + alpha_lack[0, i] * y[i, 0] * torch.FloatTensor(n.array(training_X.iloc[i, :]).reshape (-1, 1))\n",
    "\n",
    "W = W + alpha_last * y [M - 1, 0] * torch.FloatTensor(np.array(training_X.array.iloc[M - 1, :]).reshape(-1, 1))\n",
    "W"
   ]
  },
  {
   "cell_type": "markdown",
   "id": "cf7796b6",
   "metadata": {},
   "source": [
    "## 7. Prediction and model evaluation"
   ]
  },
  {
   "cell_type": "code",
   "execution_count": null,
   "id": "b4765b5c",
   "metadata": {},
   "outputs": [],
   "source": [
    "def prediction(x):\n",
    "    sum_record = 0.0\n",
    "    for i in range(M - 1):\n",
    "        sum_record = sum_record + alpha_lack[0, i] * y[i, 0] * K(training_X.iloc[i, :], x)\n",
    "        sum_record = sum_record + alpha_last * y [M - 1, 0] * K(training_X.iloc[M - 1, :], x)\n",
    "        \n",
    "    return sum record + b"
   ]
  },
  {
   "cell_type": "code",
   "execution_count": null,
   "id": "dca7d5c9",
   "metadata": {},
   "outputs": [],
   "source": [
    "max_r = 0.45\n",
    "x1 = []\n",
    "x2 = []\n",
    "y test = [] \n",
    "\n",
    "for i in range(50):\n",
    "    r = max_r * np.random.rand()\n",
    "    rand_num = np.random.rand ()\n",
    "    x1.append(%.5 + r * cos(2 * pi * rand_num))\n",
    "    x2.append(0.5 + r * sin(2 * pi * rand_num))\n",
    "    y_test.append(1)\n",
    "\n",
    "for i in range(50):\n",
    "    r = max_r * np.random.rand()\n",
    "    rand_num = np random.rand()\n",
    "    x1.append(-0.5 + r * cos (2 * pi * rand_num)) \n",
    "    x2.append(-0.5 + r * sin(2 * pi * rand num))\n",
    "    y_test.append(-1)\n",
    "    \n",
    "dict1 = {\"xl\": x1, \"X2\": x2}\n",
    "test_X = pd.DataFrame(dict1)\n",
    "\n",
    "dict2 = {\"y\": y_test}\n",
    "test_y = pd.DataFrame(dict2)\n",
    "\n",
    "test_X.head (5)"
   ]
  },
  {
   "cell_type": "code",
   "execution_count": null,
   "id": "5bd4363a",
   "metadata": {},
   "outputs": [],
   "source": [
    "prediction_results = []\n",
    "\n",
    "for i in range(test_X.__len__()):\n",
    "    y_pred_i = prediction(test_X.iloc[i, :])\n",
    "    prediction_results.append(y_pred_i)\n",
    "\n",
    "for i in range(prediction_results.__len__()):\n",
    "    \n",
    "    if prediction_results[i] > 0.0:\n",
    "        prediction_results[i] = 1.0\n",
    "    \n",
    "    else:\n",
    "        prediction_results[i] = -1.0\n",
    "\n",
    "Matrix(np.array(prediction_results).reshape(-1, 10))"
   ]
  },
  {
   "cell_type": "code",
   "execution_count": null,
   "id": "82587db9",
   "metadata": {},
   "outputs": [],
   "source": [
    "from sklearn.metrics import accuracy_score\n",
    "print(\"The accuracy score in this prediction is\", \n",
    "      accuracy_score(np.array (prediction_results), test_y) * 100, \"%\")"
   ]
  },
  {
   "cell_type": "code",
   "execution_count": null,
   "id": "8481cf15",
   "metadata": {},
   "outputs": [],
   "source": []
  }
 ],
 "metadata": {
  "kernelspec": {
   "display_name": "Python 3 (ipykernel)",
   "language": "python",
   "name": "python3"
  },
  "language_info": {
   "codemirror_mode": {
    "name": "ipython",
    "version": 3
   },
   "file_extension": ".py",
   "mimetype": "text/x-python",
   "name": "python",
   "nbconvert_exporter": "python",
   "pygments_lexer": "ipython3",
   "version": "3.10.9"
  }
 },
 "nbformat": 4,
 "nbformat_minor": 5
}

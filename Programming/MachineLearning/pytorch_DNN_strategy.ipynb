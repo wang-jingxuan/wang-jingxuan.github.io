{
 "cells": [
  {
   "cell_type": "markdown",
   "id": "92d3f48c",
   "metadata": {},
   "source": [
    "# Pytorch DNN Stategy"
   ]
  },
  {
   "cell_type": "markdown",
   "id": "6b2a745e",
   "metadata": {},
   "source": [
    "## 1. Fire Up"
   ]
  },
  {
   "cell_type": "code",
   "execution_count": 2,
   "id": "ab490672",
   "metadata": {},
   "outputs": [],
   "source": [
    "import torch\n",
    "from torch.autograd import Variable\n",
    "import torch.nn as nn\n",
    "import torch.nn.functional as F\n",
    "import numpy as np\n",
    "import pandas as pd\n",
    "import matplotlib.pyplot as plt\n",
    "from sklearn.metrics import accuracy_score\n",
    "from torchvision import datasets\n",
    "from torchvision import transforms\n",
    "import sympy\n",
    "from sympy import Matrix\n",
    "import tushare as ts\n",
    "\n",
    "%config InlineBackend. figure_format = \"svg\" # In order to make the figures clearly shown in the notebook"
   ]
  },
  {
   "cell_type": "code",
   "execution_count": null,
   "id": "0d2985de",
   "metadata": {},
   "outputs": [],
   "source": [
    "import tensorflow as tf\n",
    "from tensorflow import keras"
   ]
  },
  {
   "cell_type": "code",
   "execution_count": 23,
   "id": "99b87bb6",
   "metadata": {},
   "outputs": [],
   "source": [
    "df = ts.lpr_ma_data() #取当前年份的数据\n",
    "#df = ts.lpr_ma_data(2014) #取2014年的数据"
   ]
  },
  {
   "cell_type": "code",
   "execution_count": 25,
   "id": "61a6f542",
   "metadata": {},
   "outputs": [],
   "source": [
    "df"
   ]
  },
  {
   "cell_type": "markdown",
   "id": "ad4eaad1",
   "metadata": {},
   "source": [
    "## 2. Data Generating"
   ]
  },
  {
   "cell_type": "code",
   "execution_count": 21,
   "id": "0f247680",
   "metadata": {
    "scrolled": true
   },
   "outputs": [
    {
     "name": "stdout",
     "output_type": "stream",
     "text": [
      "本接口即将停止更新，请尽快使用Pro版接口：https://tushare.pro/document/2\n"
     ]
    },
    {
     "ename": "AttributeError",
     "evalue": "'DataFrame' object has no attribute 'append'",
     "output_type": "error",
     "traceback": [
      "\u001b[0;31m---------------------------------------------------------------------------\u001b[0m",
      "\u001b[0;31mAttributeError\u001b[0m                            Traceback (most recent call last)",
      "\u001b[0;32m/var/folders/j0/k9_1_n411h3ct9_rf7__b9hh0000gn/T/ipykernel_7429/3567945227.py\u001b[0m in \u001b[0;36m?\u001b[0;34m()\u001b[0m\n\u001b[0;32m----> 1\u001b[0;31m \u001b[0mdata\u001b[0m \u001b[0;34m=\u001b[0m \u001b[0mts\u001b[0m\u001b[0;34m.\u001b[0m\u001b[0mget_k_data\u001b[0m\u001b[0;34m(\u001b[0m\u001b[0;34m'hs300'\u001b[0m\u001b[0;34m,\u001b[0m \u001b[0mstart\u001b[0m \u001b[0;34m=\u001b[0m \u001b[0;34m'2014-07-01'\u001b[0m\u001b[0;34m,\u001b[0m \u001b[0mend\u001b[0m \u001b[0;34m=\u001b[0m \u001b[0;34m'2017-03-20'\u001b[0m\u001b[0;34m)\u001b[0m\u001b[0;34m\u001b[0m\u001b[0;34m\u001b[0m\u001b[0m\n\u001b[0m\u001b[1;32m      2\u001b[0m \u001b[0mdata\u001b[0m\u001b[0;34m.\u001b[0m\u001b[0mset_index\u001b[0m\u001b[0;34m(\u001b[0m\u001b[0;34m\"date\"\u001b[0m\u001b[0;34m,\u001b[0m \u001b[0minplace\u001b[0m \u001b[0;34m=\u001b[0m \u001b[0;32mTrue\u001b[0m\u001b[0;34m)\u001b[0m\u001b[0;34m\u001b[0m\u001b[0;34m\u001b[0m\u001b[0m\n\u001b[1;32m      3\u001b[0m \u001b[0mdata\u001b[0m\u001b[0;34m\u001b[0m\u001b[0;34m\u001b[0m\u001b[0m\n",
      "\u001b[0;32m/opt/anaconda3/lib/python3.9/site-packages/tushare/stock/trading.py\u001b[0m in \u001b[0;36m?\u001b[0;34m(code, start, end, ktype, autype, index, retry_count, pause)\u001b[0m\n\u001b[1;32m    702\u001b[0m     \u001b[0;32melse\u001b[0m\u001b[0;34m:\u001b[0m\u001b[0;34m\u001b[0m\u001b[0;34m\u001b[0m\u001b[0m\n\u001b[1;32m    703\u001b[0m         \u001b[0;32mraise\u001b[0m \u001b[0mTypeError\u001b[0m\u001b[0;34m(\u001b[0m\u001b[0;34m'ktype input error.'\u001b[0m\u001b[0;34m)\u001b[0m\u001b[0;34m\u001b[0m\u001b[0;34m\u001b[0m\u001b[0m\n\u001b[1;32m    704\u001b[0m     \u001b[0mdata\u001b[0m \u001b[0;34m=\u001b[0m \u001b[0mpd\u001b[0m\u001b[0;34m.\u001b[0m\u001b[0mDataFrame\u001b[0m\u001b[0;34m(\u001b[0m\u001b[0;34m)\u001b[0m\u001b[0;34m\u001b[0m\u001b[0;34m\u001b[0m\u001b[0m\n\u001b[1;32m    705\u001b[0m     \u001b[0;32mfor\u001b[0m \u001b[0murl\u001b[0m \u001b[0;32min\u001b[0m \u001b[0murls\u001b[0m\u001b[0;34m:\u001b[0m\u001b[0;34m\u001b[0m\u001b[0;34m\u001b[0m\u001b[0m\n\u001b[0;32m--> 706\u001b[0;31m         data = data.append(_get_k_data(url, dataflag, \n\u001b[0m\u001b[1;32m    707\u001b[0m                                        \u001b[0msymbol\u001b[0m\u001b[0;34m,\u001b[0m \u001b[0mcode\u001b[0m\u001b[0;34m,\u001b[0m\u001b[0;34m\u001b[0m\u001b[0;34m\u001b[0m\u001b[0m\n\u001b[1;32m    708\u001b[0m                                        \u001b[0mindex\u001b[0m\u001b[0;34m,\u001b[0m \u001b[0mktype\u001b[0m\u001b[0;34m,\u001b[0m\u001b[0;34m\u001b[0m\u001b[0;34m\u001b[0m\u001b[0m\n\u001b[1;32m    709\u001b[0m                                        retry_count, pause), \n",
      "\u001b[0;32m/opt/anaconda3/lib/python3.9/site-packages/pandas/core/generic.py\u001b[0m in \u001b[0;36m?\u001b[0;34m(self, name)\u001b[0m\n\u001b[1;32m   5985\u001b[0m             \u001b[0;32mand\u001b[0m \u001b[0mname\u001b[0m \u001b[0;32mnot\u001b[0m \u001b[0;32min\u001b[0m \u001b[0mself\u001b[0m\u001b[0;34m.\u001b[0m\u001b[0m_accessors\u001b[0m\u001b[0;34m\u001b[0m\u001b[0;34m\u001b[0m\u001b[0m\n\u001b[1;32m   5986\u001b[0m             \u001b[0;32mand\u001b[0m \u001b[0mself\u001b[0m\u001b[0;34m.\u001b[0m\u001b[0m_info_axis\u001b[0m\u001b[0;34m.\u001b[0m\u001b[0m_can_hold_identifiers_and_holds_name\u001b[0m\u001b[0;34m(\u001b[0m\u001b[0mname\u001b[0m\u001b[0;34m)\u001b[0m\u001b[0;34m\u001b[0m\u001b[0;34m\u001b[0m\u001b[0m\n\u001b[1;32m   5987\u001b[0m         ):\n\u001b[1;32m   5988\u001b[0m             \u001b[0;32mreturn\u001b[0m \u001b[0mself\u001b[0m\u001b[0;34m[\u001b[0m\u001b[0mname\u001b[0m\u001b[0;34m]\u001b[0m\u001b[0;34m\u001b[0m\u001b[0;34m\u001b[0m\u001b[0m\n\u001b[0;32m-> 5989\u001b[0;31m         \u001b[0;32mreturn\u001b[0m \u001b[0mobject\u001b[0m\u001b[0;34m.\u001b[0m\u001b[0m__getattribute__\u001b[0m\u001b[0;34m(\u001b[0m\u001b[0mself\u001b[0m\u001b[0;34m,\u001b[0m \u001b[0mname\u001b[0m\u001b[0;34m)\u001b[0m\u001b[0;34m\u001b[0m\u001b[0;34m\u001b[0m\u001b[0m\n\u001b[0m",
      "\u001b[0;31mAttributeError\u001b[0m: 'DataFrame' object has no attribute 'append'"
     ]
    }
   ],
   "source": [
    "data = ts.get_k_data('hs300', start = '2014-07-01', end = '2017-03-20')\n",
    "data.set_index(\"date\", inplace = True)\n",
    "data"
   ]
  },
  {
   "cell_type": "code",
   "execution_count": 5,
   "id": "b2dc15ef",
   "metadata": {},
   "outputs": [
    {
     "ename": "NameError",
     "evalue": "name 'data' is not defined",
     "output_type": "error",
     "traceback": [
      "\u001b[0;31m---------------------------------------------------------------------------\u001b[0m",
      "\u001b[0;31mNameError\u001b[0m                                 Traceback (most recent call last)",
      "Cell \u001b[0;32mIn[5], line 2\u001b[0m\n\u001b[1;32m      1\u001b[0m data_cleaned \u001b[38;5;241m=\u001b[39m pd\u001b[38;5;241m.\u001b[39mDataFrame()\n\u001b[0;32m----> 2\u001b[0m data_cleaned[\u001b[38;5;124m\"\u001b[39m\u001b[38;5;124mClose0\u001b[39m\u001b[38;5;124m\"\u001b[39m] \u001b[38;5;241m=\u001b[39m np\u001b[38;5;241m.\u001b[39mlog(\u001b[43mdata\u001b[49m[\u001b[38;5;124m\"\u001b[39m\u001b[38;5;124mclose\u001b[39m\u001b[38;5;124m\"\u001b[39m])\n\u001b[1;32m      3\u001b[0m data_cleaned[\u001b[38;5;124m\"\u001b[39m\u001b[38;5;124mH_L\u001b[39m\u001b[38;5;124m\"\u001b[39m] \u001b[38;5;241m=\u001b[39m data[\u001b[38;5;124m\"\u001b[39m\u001b[38;5;124mhigh\u001b[39m\u001b[38;5;124m\"\u001b[39m] \u001b[38;5;241m-\u001b[39m data[\u001b[38;5;124m\"\u001b[39m\u001b[38;5;124mlow\u001b[39m\u001b[38;5;124m\"\u001b[39m]\n\u001b[1;32m      4\u001b[0m data_cleaned[\u001b[38;5;124m\"\u001b[39m\u001b[38;5;124mC_0\u001b[39m\u001b[38;5;124m\"\u001b[39m] \u001b[38;5;241m=\u001b[39m data[\u001b[38;5;124m\"\u001b[39m\u001b[38;5;124mclose\u001b[39m\u001b[38;5;124m\"\u001b[39m] \u001b[38;5;241m-\u001b[39m data [\u001b[38;5;124m\"\u001b[39m\u001b[38;5;124mopen\u001b[39m\u001b[38;5;124m\"\u001b[39m]\n",
      "\u001b[0;31mNameError\u001b[0m: name 'data' is not defined"
     ]
    }
   ],
   "source": [
    "data_cleaned = pd.DataFrame()\n",
    "data_cleaned[\"Close0\"] = np.log(data[\"close\"])\n",
    "data_cleaned[\"H_L\"] = data[\"high\"] - data[\"low\"]\n",
    "data_cleaned[\"C_0\"] = data[\"close\"] - data [\"open\"]\n",
    "data_cleaned[\"volume\"] = np.log10(data[\"volume\"])\n",
    "\n",
    "data_cleaned[\"Closel\"] = data_cleaned[\"Close0\"].shift(1)\n",
    "data_cleaned[\"Close2\"] = data_cleaned[\"Close0\"].shift(2)\n",
    "data_cleaned[\"Close3\"] = data_cleaned[\"Close0\"].shift(3)\n",
    "data_cleaned[\"Close4\"] = data_cleaned[\"Close0\"].shift(4)\n",
    "data_cleaned[\"Close5\"] = data_cleaned[\"Close0\"].shift(5)\n",
    "\n",
    "data_cleaned[\"H_L1\"] = data_cleaned[\"H_L\"].shift(1)\n",
    "data_cleaned[\"H_L2\"] = data_cleaned[\"H_L\"].shift(2)\n",
    "data_cleaned[\"H_L3\"] = data_cleaned[\"H_L\"].shift(3)\n",
    "data_cleaned[\"H_L4\"] = data_cleaned[\"H_L\"].shift(4)\n",
    "data_cleaned[\"H_L5\"] = data_cleaned[\"H_L\"].shift(5)\n",
    "\n",
    "data_cleaned[\"C_01\"] = data_cleaned[\"C_0\"].shift(1)\n",
    "data_cleaned[\"C_02\"] = data_cleaned[\"C_0\"].shift(2)\n",
    "data_cleaned[\"C_03\"] = data_cleaned[\"C_0\"].shift(3)\n",
    "data_cleaned[\"C_04\"] = data_cleaned[\"C_0\"].shift(4)\n",
    "data_cleaned[\"C_05\"] = data_cleaned[\"C_0\"].shift(5)\n",
    "\n",
    "data_cleaned[\"volumel\"] = data_cleaned[\"volume\"].shift(1)\n",
    "data_cleaned[\"volume2\"] = data_cleaned[\"volume\"].shift(2)\n",
    "data_cleaned[\"volume3\"] = data_cleaned[\"volume\"].shift(3)\n",
    "data_cleaned[\"volume4\"] = data_cleaned[\"volume\"].shift(4)\n",
    "data_cleaned[\"volume5\"] = data_cleaned[\"volume\"].shift(5)"
   ]
  },
  {
   "cell_type": "code",
   "execution_count": null,
   "id": "0a319506",
   "metadata": {},
   "outputs": [],
   "source": []
  },
  {
   "cell_type": "code",
   "execution_count": null,
   "id": "e81314d1",
   "metadata": {},
   "outputs": [],
   "source": []
  },
  {
   "cell_type": "code",
   "execution_count": null,
   "id": "f29e6fba",
   "metadata": {},
   "outputs": [],
   "source": []
  },
  {
   "cell_type": "code",
   "execution_count": null,
   "id": "400a5842",
   "metadata": {},
   "outputs": [],
   "source": []
  },
  {
   "cell_type": "code",
   "execution_count": null,
   "id": "ed81e312",
   "metadata": {},
   "outputs": [],
   "source": []
  },
  {
   "cell_type": "code",
   "execution_count": null,
   "id": "05e57cd8",
   "metadata": {},
   "outputs": [],
   "source": []
  },
  {
   "cell_type": "code",
   "execution_count": null,
   "id": "3fdd4c61",
   "metadata": {},
   "outputs": [],
   "source": []
  },
  {
   "cell_type": "code",
   "execution_count": null,
   "id": "3975327b",
   "metadata": {},
   "outputs": [],
   "source": []
  },
  {
   "cell_type": "code",
   "execution_count": null,
   "id": "909db6a8",
   "metadata": {},
   "outputs": [],
   "source": []
  },
  {
   "cell_type": "code",
   "execution_count": null,
   "id": "af94ce2e",
   "metadata": {},
   "outputs": [],
   "source": []
  },
  {
   "cell_type": "markdown",
   "id": "00c1e008",
   "metadata": {},
   "source": [
    "### Remarks\n",
    "\n",
    "**Shortcomings of DNN strategy**\n",
    "\n",
    "- Cannot represent all the historical data in the model.\n",
    "  \n",
    "  Add long data window? Maybe it will work, but we have better instruments.\n",
    "- RNN: GRU/ LSTM\n",
    "\n",
    "**Shortcomings of the feature engineering**\n",
    "\n",
    "- Only contains price data: technical analysis\n",
    "\n",
    "- Many data can be further introduced\n",
    "  \n",
    "  Fundamental data\n",
    "  \n",
    "  text data: (NLP) sentiment analysis, sequence models(RNN: GRU/ LSTM, BRNN)\n",
    "  \n",
    "  Many practitioners in China are finding good factors according to a wealth of data available to them.\n",
    "\n",
    "***\n",
    "**Shortcomings of the idea**\n",
    "\n",
    "- Frequently trading will cause large trading cost\n",
    "\n",
    "- No risk management\n",
    "\n",
    "- Only trade one asset(HS300), cannot be applied to portfolio management\n",
    "\n",
    "- Short selling\n",
    "\n",
    "***\n",
    "\n",
    "**Other considerations**\n",
    "\n",
    "- Write all your strategies into a class\n",
    "\n",
    "- Most code in the financial industry is OOP\n",
    "\n",
    "- My investment philosophy: fundamental or event-driven(NLP and sentiment analysis)"
   ]
  },
  {
   "cell_type": "code",
   "execution_count": null,
   "id": "4e830ba8",
   "metadata": {},
   "outputs": [],
   "source": []
  }
 ],
 "metadata": {
  "kernelspec": {
   "display_name": "Python 3 (ipykernel)",
   "language": "python",
   "name": "python3"
  },
  "language_info": {
   "codemirror_mode": {
    "name": "ipython",
    "version": 3
   },
   "file_extension": ".py",
   "mimetype": "text/x-python",
   "name": "python",
   "nbconvert_exporter": "python",
   "pygments_lexer": "ipython3",
   "version": "3.9.16"
  }
 },
 "nbformat": 4,
 "nbformat_minor": 5
}
